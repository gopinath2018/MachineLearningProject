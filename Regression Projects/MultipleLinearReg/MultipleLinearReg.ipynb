{
 "cells": [
  {
   "cell_type": "markdown",
   "metadata": {},
   "source": [
    "### Multiple Linear Regression\n",
    "\n"
   ]
  },
  {
   "cell_type": "code",
   "execution_count": null,
   "metadata": {},
   "outputs": [],
   "source": [
    "#Importing Libraries\n",
    "\n",
    "import numpy as np\n",
    "import pandas as pd\n",
    "import matplotlib.pyplot as plt"
   ]
  },
  {
   "cell_type": "code",
   "execution_count": null,
   "metadata": {},
   "outputs": [],
   "source": [
    "#Importing Dataset\n",
    "gopi = pd.read_csv(\"50_Startups.csv\")\n",
    "X = gopi.iloc[:,:-1].values\n",
    "Y = gopi.iloc[:,4].values\n"
   ]
  },
  {
   "cell_type": "code",
   "execution_count": null,
   "metadata": {},
   "outputs": [],
   "source": [
    "#Encoding the categorical data\n",
    "\n",
    "from sklearn.preprocessing import LabelEncoder, OneHotEncoder\n",
    "xencode = LabelEncoder()\n",
    "X[:,3] = xencode.fit_transform(X[:, 3])\n",
    "onehot = OneHotEncoder(categorical_features = [3])\n",
    "X = onehot.fit_transform(X).toarray()\n"
   ]
  },
  {
   "cell_type": "code",
   "execution_count": null,
   "metadata": {},
   "outputs": [],
   "source": [
    "#AVOIDING THE DUMMY TRAP\n",
    "X = X[:,1:]"
   ]
  },
  {
   "cell_type": "code",
   "execution_count": null,
   "metadata": {},
   "outputs": [],
   "source": [
    "#Spliting of data into traing set and test set\n",
    "\n",
    "from sklearn.cross_validation import train_test_split\n",
    "X_train,X_test,Y_train,Y_test= train_test_split(X,Y,test_size=0.2, random_state=0)"
   ]
  },
  {
   "cell_type": "code",
   "execution_count": null,
   "metadata": {},
   "outputs": [],
   "source": [
    "#Fitting Multiple Regression for Train Set\n",
    "\n",
    "from sklearn.linear_model import LinearRegression\n",
    "regg = LinearRegression()\n",
    "regg.fit(X_train,Y_train)"
   ]
  },
  {
   "cell_type": "code",
   "execution_count": null,
   "metadata": {},
   "outputs": [],
   "source": [
    "#pred Regression for Test Set\n",
    "\n",
    "Y_pred  = regg.predict(X_test)\n",
    "regg = LinearRegression()\n",
    "regg.fit(X_train,Y_train)"
   ]
  },
  {
   "cell_type": "code",
   "execution_count": null,
   "metadata": {},
   "outputs": [],
   "source": [
    "#Backward Elimination\n",
    "\n",
    "import statsmodels.formula.api as sm\n",
    "X = np.append(arr=np.ones((50,1)).astype(int), values= X, axis=1)\n",
    "X_opt=X[:, [0, 1, 3, 4, 5]]\n",
    "regg_ols = sm.OLS(endog=Y, exog=X_opt).fit()\n",
    "regg_ols.summary()\n"
   ]
  },
  {
   "cell_type": "code",
   "execution_count": null,
   "metadata": {},
   "outputs": [],
   "source": [
    "X_opt=X[:, [0, 3]]\n",
    "regg_ols = sm.OLS(endog=Y, exog=X_opt).fit()\n",
    "regg_ols.summary()"
   ]
  }
 ],
 "metadata": {
  "kernelspec": {
   "display_name": "Python 3",
   "language": "python",
   "name": "python3"
  },
  "language_info": {
   "codemirror_mode": {
    "name": "ipython",
    "version": 3
   },
   "file_extension": ".py",
   "mimetype": "text/x-python",
   "name": "python",
   "nbconvert_exporter": "python",
   "pygments_lexer": "ipython3",
   "version": "3.6.5"
  }
 },
 "nbformat": 4,
 "nbformat_minor": 2
}
